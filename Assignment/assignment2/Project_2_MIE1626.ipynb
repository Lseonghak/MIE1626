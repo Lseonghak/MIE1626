{
 "cells": [
  {
   "cell_type": "code",
   "execution_count": null,
   "id": "4fb30297",
   "metadata": {},
   "outputs": [],
   "source": [
    "from google.colab import files\n",
    "# upload Canada_elections_2021.csv\n",
    "uploaded = files.upload()"
   ]
  },
  {
   "cell_type": "code",
   "execution_count": null,
   "id": "8d10d85a",
   "metadata": {},
   "outputs": [],
   "source": [
    "# upload sentiment_analysis.csv\n",
    "uploaded = files.upload()"
   ]
  },
  {
   "cell_type": "code",
   "execution_count": null,
   "id": "ba136e83",
   "metadata": {},
   "outputs": [],
   "source": [
    "# Basic basic package to handle data.\n",
    "import numpy as np\n",
    "import pandas as pd\n",
    "import seaborn as sns\n",
    "import matplotlib.pyplot as plt"
   ]
  },
  {
   "cell_type": "markdown",
   "id": "1b0b7365",
   "metadata": {},
   "source": [
    " # 0. Data Imported"
   ]
  },
  {
   "cell_type": "code",
   "execution_count": null,
   "id": "884e7333",
   "metadata": {},
   "outputs": [],
   "source": [
    "# import sentiment_analysis.csv as df_sa\n",
    "df_sa = pd.read_csv('sentiment_analysis.csv',low_memory=False)\n",
    "print(\"Shape of sentiment_analysis.csv: \",df_sa.shape)\n",
    "# 0 stands for negative and 1 stands for positive\n",
    "# ID is useless in this sentiment analysis, so we drop this column\n",
    "df_sa = df_sa[['text','label']]\n",
    "print(\"Revised Shape of sentiment_analysis.csv: \",df_sa.shape)\n",
    "df_sa.head()"
   ]
  },
  {
   "cell_type": "code",
   "execution_count": null,
   "id": "68805f93",
   "metadata": {},
   "outputs": [],
   "source": [
    "# import Canadian_elections_2021.csv as df_ce\n",
    "df_ce = pd.read_csv('Canadian_elections_2021.csv',low_memory=False)\n",
    "print(\"Shape of Canadian_elections_2021.csv: \",df_ce.shape)\n",
    "df_ce.head()"
   ]
  },
  {
   "cell_type": "markdown",
   "id": "3a34e78c",
   "metadata": {},
   "source": [
    "# **1. Data cleaning (10 Marks)**  \n",
    "The tweets, as given, are not in a form amenable to analysis – there is too much ‘noise’.  \n",
    "Therefore, the first step is to “clean” the data. Design a procedure that prepares the Twitter data for analysis by satisfying the requirements below. Remember to use the same pipeline for both datasets.\n",
    "\n",
    "*   All html tags and attributes (i.e., /<[^>]+>/) are removed.\n",
    "*   Html character codes (i.e., &...;) are replaced with an ASCII equivalent.\n",
    "*   All URLs are removed.\n",
    "*   All characters in the text are in lowercase.\n",
    "*   All stop words are removed. Be clear in what you consider as a stop word.\n",
    "*   If a tweet is empty after pre-processing, it should be preserved as such.\n",
    "\n",
    "\n",
    "\n"
   ]
  },
  {
   "cell_type": "code",
   "execution_count": null,
   "id": "527f4a71",
   "metadata": {},
   "outputs": [],
   "source": [
    "# Import Data Cleaning related package\n",
    "import re\n",
    "import html\n",
    "import nltk\n",
    "nltk.download('punkt')\n",
    "nltk.download('stopwords')\n",
    "\n",
    "from nltk.stem import PorterStemmer\n",
    "from nltk.corpus import stopwords\n",
    "from nltk.tokenize import word_tokenize"
   ]
  },
  {
   "cell_type": "code",
   "execution_count": null,
   "id": "66e26a8a",
   "metadata": {},
   "outputs": [],
   "source": [
    "# your code start from here.\n"
   ]
  },
  {
   "cell_type": "markdown",
   "id": "145b86fd",
   "metadata": {},
   "source": [
    "# **2. Exploratory analysis (15 marks)**  \n",
    "1. Design a simple procedure that determines the political party (Liberal, Conservative, New Democratic Party (NDP), The People's Party of Canada (PPC)) of a given tweet and apply this procedure to all the tweets in the Canadian Elections dataset. A suggestion would be to look at relevant words and hashtags in the tweets that identify to certain political parties or candidates. What can you say about the distribution of the political affiliations of the tweets?  \n",
    "\n",
    "2. Present a graphical figure (e.g. chart, graph, histogram, boxplot, word cloud, etc.) that visualizes some aspect of the generic tweets in sentiment_analysis.csv and another figure for the 2021 Canadian Elections tweets. All graphs and plots should be readable and have all axes that are appropriately labelled. Discuss your findings."
   ]
  },
  {
   "cell_type": "code",
   "execution_count": null,
   "id": "ffd73dd2",
   "metadata": {},
   "outputs": [],
   "source": [
    "# import package related to Exploratory analysis\n",
    "from wordcloud import WordCloud\n",
    "from collections import defaultdict\n",
    "from sklearn.feature_extraction.text import CountVectorizer"
   ]
  },
  {
   "cell_type": "code",
   "execution_count": null,
   "id": "b8e75ec1",
   "metadata": {},
   "outputs": [],
   "source": [
    "# your code start from here.\n"
   ]
  },
  {
   "cell_type": "markdown",
   "id": "65ea447e",
   "metadata": {},
   "source": [
    "# **3. Model preparation (15 marks)**  \n",
    "Split the generic tweets randomly into training data (80%) and test data 20%).  \n",
    "Prepare the data to try seven classification algorithms – logistic regression, k-NN, Naive Bayes, SVM, decision trees, Random Forest and XGBoost, where each tweet is considered a single observation/example. In these models, the target variable is the sentiment value, which is either positive or negative. Try four different types of features, Bag of Words (word frequency), TF-IDF, word embedding, and N-grams on all 7 models. (Hint: Be careful about when to split the dataset into training and testing sets.)"
   ]
  },
  {
   "cell_type": "code",
   "execution_count": null,
   "id": "7733e4d0",
   "metadata": {},
   "outputs": [],
   "source": [
    "# import package related to Model Preparation\n",
    "from sklearn.decomposition import TruncatedSVD\n",
    "from sklearn.model_selection import train_test_split\n",
    "from sklearn.feature_extraction.text import TfidfVectorizer,CountVectorizer"
   ]
  },
  {
   "cell_type": "code",
   "execution_count": null,
   "id": "8b070e53",
   "metadata": {},
   "outputs": [],
   "source": [
    "# your code start from here.\n"
   ]
  },
  {
   "cell_type": "markdown",
   "id": "fc2553b8",
   "metadata": {},
   "source": [
    "# **4. Model implementation and tuning (60 marks)**\n",
    "\n",
    "**4.1)** Using four types of features (Bag of Words and TF-IDF, word embeddings, and N-grams), train models on the training data from generic tweets and apply the model to the test data to obtain an accuracy value.\n",
    "\n",
    "**a.** Evaluate the trained model with the best performance on the Canadian Elections data. How well do your predictions match the sentiment labelled in the Canadian elections data?"
   ]
  },
  {
   "cell_type": "code",
   "execution_count": null,
   "id": "b8bfe336",
   "metadata": {},
   "outputs": [],
   "source": [
    "import time\n",
    "\n",
    "# import modelization related packages\n",
    "from sklearn.linear_model import LogisticRegression\n",
    "from sklearn.neighbors import KNeighborsClassifier\n",
    "from sklearn.naive_bayes import GaussianNB, MultinomialNB \n",
    "from sklearn.svm import LinearSVC    \n",
    "from sklearn.tree import DecisionTreeClassifier\n",
    "from sklearn.ensemble import RandomForestClassifier\n",
    "from xgboost import XGBClassifier\n",
    "from sklearn.metrics import accuracy_score, f1_score\n",
    "\n",
    "from sklearn.model_selection import GridSearchCV"
   ]
  },
  {
   "cell_type": "code",
   "execution_count": null,
   "id": "38fc930a",
   "metadata": {},
   "outputs": [],
   "source": [
    "# your code start from here.\n"
   ]
  },
  {
   "cell_type": "markdown",
   "id": "b8268379",
   "metadata": {},
   "source": [
    "**b.** Propose three other metrics you could use to evaluate the models. Then evaluate the models accordingly. In one to two sentences, provide reasoning for each metric."
   ]
  },
  {
   "cell_type": "code",
   "execution_count": null,
   "id": "37e87f57",
   "metadata": {},
   "outputs": [],
   "source": [
    "# your code start from here.\n"
   ]
  },
  {
   "cell_type": "markdown",
   "id": "314df738",
   "metadata": {},
   "source": [
    "**c.** Choose the model that has the best performance and visualize the sentiment prediction results and the true sentiment for each of the 4 parties. From this model, discuss your findings and whether NLP analytics based on tweets is useful for political parties during election campaigns. Explain how each party is viewed in the public eye based on the sentiment value. Suggest one way you can improve the accuracy of this model."
   ]
  },
  {
   "cell_type": "code",
   "execution_count": null,
   "id": "658478fb",
   "metadata": {},
   "outputs": [],
   "source": [
    "# your code start from here.\n"
   ]
  },
  {
   "cell_type": "markdown",
   "id": "e155012f",
   "metadata": {},
   "source": [
    "**4.2)** Split the negative Canadian elections tweets into training data (80%) and test data (20%). Use the true sentiment labels in the Canadian elections data instead of your predictions from the previous part. Choose one algorithms from classification algorithms (choose any model from logistic regression, k-NN, Naive Bayes, SVM, decision trees, RF, XGBoost), train multi-class classification model to predict the reason for the negative tweets. Tune the hyperparameters and chose the model with best score to test your prediction reason for negative sentiment tweets."
   ]
  },
  {
   "cell_type": "code",
   "execution_count": null,
   "id": "52aec603",
   "metadata": {},
   "outputs": [],
   "source": [
    "# your code start from here.\n"
   ]
  },
  {
   "cell_type": "markdown",
   "id": "0d0717d2",
   "metadata": {},
   "source": [
    "**a. Provide a few reasons why your model may fail to predict the correct negative reasons. Back up your reasoning with examples from the test sets.**  \n"
   ]
  },
  {
   "cell_type": "code",
   "execution_count": null,
   "id": "6fdbd2e2",
   "metadata": {},
   "outputs": [],
   "source": [
    "# your explanation start from here.\n"
   ]
  },
  {
   "cell_type": "markdown",
   "id": "7cb44165",
   "metadata": {},
   "source": [
    "**b. Suggest one way you can improve the accuracy of your selected model.**"
   ]
  },
  {
   "cell_type": "code",
   "execution_count": null,
   "id": "37dc6d46",
   "metadata": {},
   "outputs": [],
   "source": [
    "# your explanation and code start from here.\n"
   ]
  },
  {
   "cell_type": "markdown",
   "id": "634412c5",
   "metadata": {},
   "source": [
    "**c. Combine similar reasons into fewer categories, as long as you justify your reasoning. You are free to define input features of your model using word frequency analysis or other techniques.**"
   ]
  },
  {
   "cell_type": "code",
   "execution_count": null,
   "id": "30743f7d",
   "metadata": {},
   "outputs": [],
   "source": [
    "# your code start from here.\n"
   ]
  }
 ],
 "metadata": {
  "kernelspec": {
   "display_name": "Python 3 (ipykernel)",
   "language": "python",
   "name": "python3"
  },
  "language_info": {
   "codemirror_mode": {
    "name": "ipython",
    "version": 3
   },
   "file_extension": ".py",
   "mimetype": "text/x-python",
   "name": "python",
   "nbconvert_exporter": "python",
   "pygments_lexer": "ipython3",
   "version": "3.8.12"
  }
 },
 "nbformat": 4,
 "nbformat_minor": 5
}
